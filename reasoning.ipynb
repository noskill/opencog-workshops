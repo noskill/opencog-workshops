{
 "cells": [
  {
   "cell_type": "markdown",
   "metadata": {},
   "source": [
    "<h1>Reasoning</h1>\n",
    "\n",
    "The <b>Unified Rule Engine (URE)</b> is a generic opencog rule engine operating on the AtomSpace. Two chaining modes are currently supported, Forward Chaining and Backward Chaining.\n",
    "\n",
    "In this tutorial, we are going to have a quick look at how we can do both forward and backward chaining, follow by a simple example using PLN."
   ]
  },
  {
   "cell_type": "code",
   "execution_count": 2,
   "metadata": {},
   "outputs": [],
   "source": [
    "(use-modules\n",
    "  (opencog)\n",
    "  (opencog query)\n",
    "  (opencog ure))"
   ]
  },
  {
   "cell_type": "markdown",
   "metadata": {},
   "source": [
    "Now let's create the knowledge base, characterising frogs and spiders."
   ]
  },
  {
   "cell_type": "code",
   "execution_count": 3,
   "metadata": {},
   "outputs": [
    {
     "data": {
      "text/plain": [
       "(EvaluationLink (stv 1 1)\n",
       "   (PredicateNode \"eats_flies\")\n",
       "   (ConceptNode \"spider\")\n",
       ")\n"
      ]
     },
     "execution_count": 3,
     "metadata": {},
     "output_type": "execute_result"
    }
   ],
   "source": [
    "; Frog croaks\n",
    "(Evaluation (stv 1.0 1.0)\n",
    "   (Predicate \"croaks\") (Concept \"frog\"))\n",
    "\n",
    "; Spider bites\n",
    "(Evaluation (stv 1.0 1.0)\n",
    "   (Predicate \"bites\") (Concept \"spider\"))\n",
    "\n",
    "; Frog is green\n",
    "(Inheritance (stv 1.0 1.0)\n",
    "   (Concept \"frog\") (Concept \"green\"))\n",
    "\n",
    "; Spider is brown\n",
    "(Inheritance (stv 1.0 1.0)\n",
    "   (Concept \"spider\") (Concept \"brown\"))\n",
    "\n",
    "; Frog eats files\n",
    "(Evaluation (stv 1.0 1.0)\n",
    "   (Predicate \"eats_flies\") (Concept \"frog\"))\n",
    "\n",
    "; Spider eats files\n",
    "(Evaluation (stv 1.0 1.0)\n",
    "   (Predicate \"eats_flies\") (Concept \"spider\"))"
   ]
  },
  {
   "cell_type": "markdown",
   "metadata": {},
   "source": [
    "Next, let's create the inference rules. There are rules that are ready to use in URE, but to make it clearer for demostration purpose, let's simplified the process and create the our own rules for this tutorial:"
   ]
  },
  {
   "cell_type": "code",
   "execution_count": 4,
   "metadata": {},
   "outputs": [
    {
     "data": {
      "text/plain": [
       "(DefineLink\n",
       "   (DefinedSchemaNode \"if-frog-then-green-rule\")\n",
       "   (BindLink\n",
       "      (VariableNode \"$X\")\n",
       "      (InheritanceLink\n",
       "         (VariableNode \"$X\")\n",
       "         (ConceptNode \"frog\")\n",
       "      )\n",
       "      (InheritanceLink\n",
       "         (VariableNode \"$X\")\n",
       "         (ConceptNode \"green\")\n",
       "      )\n",
       "   )\n",
       ")\n"
      ]
     },
     "execution_count": 4,
     "metadata": {},
     "output_type": "execute_result"
    }
   ],
   "source": [
    "(define if-croaks-and-eats-flies-then-frog-rule\n",
    "  (BindLink\n",
    "    (Variable \"$X\")\n",
    "    (And\n",
    "      (Evaluation\n",
    "        (Predicate \"croaks\")\n",
    "        (Variable \"$X\"))\n",
    "      (Evaluation\n",
    "        (Predicate \"eats_flies\")\n",
    "        (Variable \"$X\")))\n",
    "    (Inheritance\n",
    "      (Variable \"$X\")\n",
    "      (Concept \"frog\")))\n",
    ")\n",
    "\n",
    "(define if-croaks-and-eats-flies-then-frog-rule-name (DefinedSchema \"if-croaks-and-eats-flies-then-frog-rule\"))\n",
    "(Define if-croaks-and-eats-flies-then-frog-rule-name if-croaks-and-eats-flies-then-frog-rule)\n",
    "\n",
    "(define if-frog-then-green-rule\n",
    "  (Bind\n",
    "    (Variable \"$X\")\n",
    "    (Inheritance\n",
    "      (Variable \"$X\")\n",
    "      (Concept \"frog\"))\n",
    "    (Inheritance\n",
    "      (Variable \"$X\")\n",
    "      (Concept \"green\")))\n",
    ")\n",
    "\n",
    "(define if-frog-then-green-rule-name (DefinedSchema \"if-frog-then-green-rule\"))\n",
    "(Define if-frog-then-green-rule-name if-frog-then-green-rule)"
   ]
  },
  {
   "cell_type": "markdown",
   "metadata": {},
   "source": [
    "And then create our own rule base and add those rules to it:"
   ]
  },
  {
   "cell_type": "code",
   "execution_count": 5,
   "metadata": {},
   "outputs": [
    {
     "data": {
      "text/plain": [
       "(ExecutionLink\n",
       "   (SchemaNode \"URE:maximum-iterations\")\n",
       "   (ConceptNode \"frog-rb\")\n",
       "   (NumberNode \"20.000000\")\n",
       ")\n"
      ]
     },
     "execution_count": 5,
     "metadata": {},
     "output_type": "execute_result"
    }
   ],
   "source": [
    "(define frog-rb (Concept \"frog-rb\"))\n",
    "\n",
    "(ure-add-rules frog-rb\n",
    "  (list\n",
    "    (cons if-croaks-and-eats-flies-then-frog-rule-name (stv 0.9 1))\n",
    "    (cons if-frog-then-green-rule-name (stv 0.5 1))))\n",
    "\n",
    "(ure-set-maximum-iterations frog-rb 20)"
   ]
  },
  {
   "cell_type": "markdown",
   "metadata": {},
   "source": [
    "We also need to specifiy the source for forward chaining, to see what we can infer from it based on the knowledge we have."
   ]
  },
  {
   "cell_type": "code",
   "execution_count": 6,
   "metadata": {},
   "outputs": [],
   "source": [
    "(define source\n",
    "  (Evaluation (stv 1.0 1.0)\n",
    "     (Predicate \"croaks\")\n",
    "     (Concept \"frog\")))"
   ]
  },
  {
   "cell_type": "markdown",
   "metadata": {},
   "source": [
    "Finally do forward chaining using `cog-fc`:"
   ]
  },
  {
   "cell_type": "code",
   "execution_count": 7,
   "metadata": {},
   "outputs": [
    {
     "data": {
      "text/plain": [
       "(SetLink\n",
       "   (InheritanceLink\n",
       "      (ConceptNode \"frog\")\n",
       "      (ConceptNode \"frog\")\n",
       "   )\n",
       "   (InheritanceLink (stv 1 1)\n",
       "      (ConceptNode \"frog\")\n",
       "      (ConceptNode \"green\")\n",
       "   )\n",
       ")\n"
      ]
     },
     "execution_count": 7,
     "metadata": {},
     "output_type": "execute_result"
    }
   ],
   "source": [
    "(cog-fc frog-rb source)"
   ]
  },
  {
   "cell_type": "markdown",
   "metadata": {},
   "source": [
    "We can do backward chaining in a similar manner, but this time, instead of starting from a source, we start from the target -- what we want to find out.\n",
    "\n",
    "So let's define the target, see what is green in color:"
   ]
  },
  {
   "cell_type": "code",
   "execution_count": 8,
   "metadata": {},
   "outputs": [],
   "source": [
    "(define target (Inheritance (Variable \"$what\") (Concept \"green\")))"
   ]
  },
  {
   "cell_type": "markdown",
   "metadata": {},
   "source": [
    "Additionally declare the variables involved:"
   ]
  },
  {
   "cell_type": "code",
   "execution_count": 9,
   "metadata": {},
   "outputs": [],
   "source": [
    "(define var_decl (TypedVariable (Variable \"$what\") (Type \"ConceptNode\")))"
   ]
  },
  {
   "cell_type": "markdown",
   "metadata": {},
   "source": [
    "And finally, do backward chaining using `cog-bc`:"
   ]
  },
  {
   "cell_type": "code",
   "execution_count": 10,
   "metadata": {},
   "outputs": [
    {
     "data": {
      "text/plain": [
       "(SetLink\n",
       "   (InheritanceLink (stv 1 1)\n",
       "      (ConceptNode \"frog\")\n",
       "      (ConceptNode \"green\")\n",
       "   )\n",
       ")\n"
      ]
     },
     "execution_count": 10,
     "metadata": {},
     "output_type": "execute_result"
    }
   ],
   "source": [
    "(cog-bc frog-rb target #:vardecl var_decl)"
   ]
  },
  {
   "cell_type": "markdown",
   "metadata": {},
   "source": [
    "<b>Probabilistic Logic Networks (PLN)</b> is a novel conceptual, mathematical and computational approach to uncertain inference that is able to encompass within uncertain logic such ideas as induction, abduction, analogy, fuzziness and speculation, and reasoning about time and causality."
   ]
  },
  {
   "cell_type": "markdown",
   "metadata": {},
   "source": [
    "Firstly, let's say we know that:\n",
    "\n",
    "- Sacrates is a man\n",
    "- Men are mortal\n",
    "\n",
    "to some degree, we want to find out to what degree <b>Socrates is mortal</b>."
   ]
  },
  {
   "cell_type": "code",
   "execution_count": 24,
   "metadata": {},
   "outputs": [
    {
     "data": {
      "text/plain": [
       "(InheritanceLink (stv 0.98 0.94)\n",
       "   (ConceptNode \"man\")\n",
       "   (ConceptNode \"mortal\")\n",
       ")\n"
      ]
     },
     "execution_count": 24,
     "metadata": {},
     "output_type": "execute_result"
    }
   ],
   "source": [
    "; Setup for PLN\n",
    "(load-from-path \"/home/relex/projects/opencog/opencog/pln/pln-config.scm\")\n",
    "\n",
    "; Rule base -- all the rules that inherit from it will be considered\n",
    "(define rb (ConceptNode \"PLN\"))\n",
    "\n",
    "; Knowledge with uncertainty\n",
    "(Inheritance (stv 0.97 0.92)\n",
    "  (Concept \"Socrates\")\n",
    "  (ConceptNode \"man\"))\n",
    "\n",
    "(Inheritance (stv 0.98 0.94)\n",
    "  (Concept \"man\")\n",
    "  (Concept \"mortal\"))"
   ]
  },
  {
   "cell_type": "markdown",
   "metadata": {},
   "source": [
    "Then set the target:"
   ]
  },
  {
   "cell_type": "code",
   "execution_count": 21,
   "metadata": {},
   "outputs": [],
   "source": [
    "(define target\n",
    "  (Inheritance\n",
    "    (Concept \"Socrates\")\n",
    "    (Concept \"mortal\")))"
   ]
  },
  {
   "cell_type": "markdown",
   "metadata": {},
   "source": [
    "And finally call the PLN backward chainer:"
   ]
  },
  {
   "cell_type": "code",
   "execution_count": 25,
   "metadata": {},
   "outputs": [
    {
     "data": {
      "text/plain": [
       "(SetLink\n",
       "   (InheritanceLink (stv 0.9508 0.828)\n",
       "      (ConceptNode \"Socrates\")\n",
       "      (ConceptNode \"mortal\")\n",
       "   )\n",
       ")\n"
      ]
     },
     "execution_count": 25,
     "metadata": {},
     "output_type": "execute_result"
    }
   ],
   "source": [
    "(cog-bc rb target)"
   ]
  }
 ],
 "metadata": {
  "kernelspec": {
   "display_name": "Guile",
   "language": "scheme",
   "name": "guile"
  },
  "language_info": {
   "codemirror_mode": "scheme",
   "file_extension": ".scm",
   "mimetype": "application/x-scheme",
   "name": "guile",
   "pygments_lexer": "scheme",
   "version": "2.0.0"
  }
 },
 "nbformat": 4,
 "nbformat_minor": 2
}
